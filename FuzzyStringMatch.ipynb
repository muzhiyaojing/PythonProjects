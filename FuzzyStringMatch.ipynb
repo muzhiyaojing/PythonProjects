{
 "cells": [
  {
   "cell_type": "code",
   "execution_count": 16,
   "metadata": {},
   "outputs": [],
   "source": [
    "import pandas as pd\n",
    "from fuzzywuzzy import fuzz\n",
    "import matplotlib.pyplot as plt"
   ]
  },
  {
   "cell_type": "code",
   "execution_count": 5,
   "metadata": {},
   "outputs": [
    {
     "data": {
      "text/html": [
       "<div>\n",
       "<style>\n",
       "    .dataframe thead tr:only-child th {\n",
       "        text-align: right;\n",
       "    }\n",
       "\n",
       "    .dataframe thead th {\n",
       "        text-align: left;\n",
       "    }\n",
       "\n",
       "    .dataframe tbody tr th {\n",
       "        vertical-align: top;\n",
       "    }\n",
       "</style>\n",
       "<table border=\"1\" class=\"dataframe\">\n",
       "  <thead>\n",
       "    <tr style=\"text-align: right;\">\n",
       "      <th></th>\n",
       "      <th>HubFirstName</th>\n",
       "      <th>LolaFirstName</th>\n",
       "    </tr>\n",
       "  </thead>\n",
       "  <tbody>\n",
       "    <tr>\n",
       "      <th>0</th>\n",
       "      <td>Cherri</td>\n",
       "      <td>Cheri</td>\n",
       "    </tr>\n",
       "    <tr>\n",
       "      <th>1</th>\n",
       "      <td>Bob</td>\n",
       "      <td>Robert</td>\n",
       "    </tr>\n",
       "    <tr>\n",
       "      <th>2</th>\n",
       "      <td>Steve</td>\n",
       "      <td>Steven</td>\n",
       "    </tr>\n",
       "    <tr>\n",
       "      <th>3</th>\n",
       "      <td>Kathryn</td>\n",
       "      <td>Kathy</td>\n",
       "    </tr>\n",
       "    <tr>\n",
       "      <th>4</th>\n",
       "      <td>Kimberly</td>\n",
       "      <td>Kim</td>\n",
       "    </tr>\n",
       "  </tbody>\n",
       "</table>\n",
       "</div>"
      ],
      "text/plain": [
       "  HubFirstName LolaFirstName\n",
       "0       Cherri         Cheri\n",
       "1          Bob        Robert\n",
       "2        Steve        Steven\n",
       "3      Kathryn         Kathy\n",
       "4     Kimberly           Kim"
      ]
     },
     "execution_count": 5,
     "metadata": {},
     "output_type": "execute_result"
    }
   ],
   "source": [
    "nameSample = pd.read_excel('firstNameTest.xlsx')\n",
    "nameSample.head()"
   ]
  },
  {
   "cell_type": "markdown",
   "metadata": {},
   "source": [
    "### Method 1: Ratio()\n",
    "\n",
    "This method works fine for short string(eg. A single word) and very long strings (eg: full book)\n",
    ", but not for 3-10 word labels. "
   ]
  },
  {
   "cell_type": "code",
   "execution_count": 6,
   "metadata": {},
   "outputs": [],
   "source": [
    "def get_ratio(df):\n",
    "    hubName = df['HubFirstName']\n",
    "    lolaName = df['LolaFirstName']\n",
    "    return fuzz.ratio(hubName,lolaName)\n",
    "\n",
    "nameSample['ratioScore'] = nameSample.apply(get_ratio, axis=1)"
   ]
  },
  {
   "cell_type": "markdown",
   "metadata": {},
   "source": [
    "### Method 2: partial_ratio()\n",
    "\n",
    "This method takes in the shortest string, which in this case is \"Catherine Gitau\", \n",
    "then matches it with all the sub-strings of length in \"Catherine M. Gitau\". \n",
    "This is more like the 'LIKE' operator in SQL\n"
   ]
  },
  {
   "cell_type": "code",
   "execution_count": 7,
   "metadata": {
    "collapsed": true
   },
   "outputs": [],
   "source": [
    "def get_partial_ratio(df):\n",
    "    hubName = df['HubFirstName']\n",
    "    lolaName = df['LolaFirstName']\n",
    "    return fuzz.partial_ratio(hubName,lolaName)\n",
    "\n",
    "nameSample['partialRatioScore'] = nameSample.apply(get_partial_ratio, axis=1)"
   ]
  },
  {
   "cell_type": "markdown",
   "metadata": {},
   "source": [
    "### Method 3: get_token_sort_ratio()\n",
    "\n",
    "The method ignore the order to compare the similarity of two strings"
   ]
  },
  {
   "cell_type": "code",
   "execution_count": 8,
   "metadata": {
    "collapsed": true
   },
   "outputs": [],
   "source": [
    "def get_token_sort_ratio(df):\n",
    "    hubName = df['HubFirstName']\n",
    "    lolaName = df['LolaFirstName']\n",
    "    return fuzz.token_sort_ratio(hubName,lolaName)\n",
    "\n",
    "nameSample['tokenSortRatioScore'] = nameSample.apply(get_token_sort_ratio,axis=1)"
   ]
  },
  {
   "cell_type": "markdown",
   "metadata": {},
   "source": [
    "### Method 4: get_token_set_ratio()\n",
    "\n",
    "This approach ignore the order. It also tokenize both strings. But instead of sorting and comparing immediately, we split the tokens into two groups. Group 1: Intersection --- Tokens that are common to both strings. Group 2: Remainder -- the left tokens\n",
    "\n",
    "The intuition here is that the intersection part is always exactly the same, the scores increase when that makes up a larger percentage of the full string, and the string remainders are more similar.\n",
    "\n",
    "This method also remove all the duplicated tokens."
   ]
  },
  {
   "cell_type": "code",
   "execution_count": 9,
   "metadata": {
    "collapsed": true
   },
   "outputs": [],
   "source": [
    "def get_token_set_ratio(df):\n",
    "    hubName = df['HubFirstName']\n",
    "    lolaName = df['LolaFirstName']\n",
    "    return fuzz.token_set_ratio(hubName, lolaName)\n",
    "\n",
    "nameSample['tokenSetRatioScore'] = nameSample.apply(get_token_set_ratio, axis=1)"
   ]
  },
  {
   "cell_type": "markdown",
   "metadata": {},
   "source": [
    "### Method 5: \n",
    "\n",
    "This function checks if two names are exactly the same."
   ]
  },
  {
   "cell_type": "code",
   "execution_count": 10,
   "metadata": {
    "collapsed": true
   },
   "outputs": [],
   "source": [
    "def if_same(df):\n",
    "    hubName = df['HubFirstName']\n",
    "    lolaName = df['LolaFirstName']\n",
    "    if hubName == lolaName:\n",
    "        result ='Same'\n",
    "    else:\n",
    "        result ='Not Same'\n",
    "    return result\n",
    "\n",
    "nameSample['sameOrNot'] = nameSample.apply(if_same,axis=1)"
   ]
  },
  {
   "cell_type": "markdown",
   "metadata": {},
   "source": [
    "### Method 6: Get the final result"
   ]
  },
  {
   "cell_type": "code",
   "execution_count": 46,
   "metadata": {
    "collapsed": true
   },
   "outputs": [],
   "source": [
    "def get_result_output(df):\n",
    "    ratioScore = df['ratioScore']\n",
    "    partialRatioScore = df['partialRatioScore']\n",
    "    tokenSortRatioScore = df['tokenSortRatioScore']\n",
    "    tokenSetRatioScore = df['tokenSetRatioScore']\n",
    "    checkifsame = df['sameOrNot']\n",
    "    final_result =''\n",
    "    if checkifsame == 'Same':\n",
    "        final_result = 'Same Names'\n",
    "    else:\n",
    "        if partialRatioScore ==100:\n",
    "            final_result ='Names Been Cut or Fully Spelled Out'\n",
    "        elif partialRatioScore !=100 and ratioScore>80:\n",
    "            final_result = 'Minor Typo'\n",
    "        else:\n",
    "            final_result ='Do Not Match'\n",
    "\n",
    "    return final_result\n",
    "\n",
    "nameSample['Match Category'] = nameSample.apply(get_result_output,axis =1)"
   ]
  },
  {
   "cell_type": "code",
   "execution_count": 47,
   "metadata": {},
   "outputs": [
    {
     "data": {
      "text/html": [
       "<div>\n",
       "<style>\n",
       "    .dataframe thead tr:only-child th {\n",
       "        text-align: right;\n",
       "    }\n",
       "\n",
       "    .dataframe thead th {\n",
       "        text-align: left;\n",
       "    }\n",
       "\n",
       "    .dataframe tbody tr th {\n",
       "        vertical-align: top;\n",
       "    }\n",
       "</style>\n",
       "<table border=\"1\" class=\"dataframe\">\n",
       "  <thead>\n",
       "    <tr style=\"text-align: right;\">\n",
       "      <th></th>\n",
       "      <th>HubFirstName</th>\n",
       "      <th>LolaFirstName</th>\n",
       "      <th>ratioScore</th>\n",
       "      <th>partialRatioScore</th>\n",
       "      <th>tokenSortRatioScore</th>\n",
       "      <th>tokenSetRatioScore</th>\n",
       "      <th>sameOrNot</th>\n",
       "      <th>Match Category</th>\n",
       "    </tr>\n",
       "  </thead>\n",
       "  <tbody>\n",
       "    <tr>\n",
       "      <th>0</th>\n",
       "      <td>Cherri</td>\n",
       "      <td>Cheri</td>\n",
       "      <td>91</td>\n",
       "      <td>80</td>\n",
       "      <td>91</td>\n",
       "      <td>91</td>\n",
       "      <td>Not Same</td>\n",
       "      <td>Minor Typo</td>\n",
       "    </tr>\n",
       "    <tr>\n",
       "      <th>1</th>\n",
       "      <td>Bob</td>\n",
       "      <td>Robert</td>\n",
       "      <td>44</td>\n",
       "      <td>67</td>\n",
       "      <td>44</td>\n",
       "      <td>44</td>\n",
       "      <td>Not Same</td>\n",
       "      <td>Do Not Match</td>\n",
       "    </tr>\n",
       "    <tr>\n",
       "      <th>2</th>\n",
       "      <td>Steve</td>\n",
       "      <td>Steven</td>\n",
       "      <td>91</td>\n",
       "      <td>100</td>\n",
       "      <td>91</td>\n",
       "      <td>91</td>\n",
       "      <td>Not Same</td>\n",
       "      <td>Names Been Cut or Fully Spelled Out</td>\n",
       "    </tr>\n",
       "    <tr>\n",
       "      <th>3</th>\n",
       "      <td>Kathryn</td>\n",
       "      <td>Kathy</td>\n",
       "      <td>83</td>\n",
       "      <td>80</td>\n",
       "      <td>83</td>\n",
       "      <td>83</td>\n",
       "      <td>Not Same</td>\n",
       "      <td>Minor Typo</td>\n",
       "    </tr>\n",
       "    <tr>\n",
       "      <th>4</th>\n",
       "      <td>Kimberly</td>\n",
       "      <td>Kim</td>\n",
       "      <td>55</td>\n",
       "      <td>100</td>\n",
       "      <td>55</td>\n",
       "      <td>55</td>\n",
       "      <td>Not Same</td>\n",
       "      <td>Names Been Cut or Fully Spelled Out</td>\n",
       "    </tr>\n",
       "    <tr>\n",
       "      <th>5</th>\n",
       "      <td>Juan Carlos</td>\n",
       "      <td>Juancarlos</td>\n",
       "      <td>86</td>\n",
       "      <td>80</td>\n",
       "      <td>57</td>\n",
       "      <td>57</td>\n",
       "      <td>Not Same</td>\n",
       "      <td>Minor Typo</td>\n",
       "    </tr>\n",
       "    <tr>\n",
       "      <th>6</th>\n",
       "      <td>Paul David</td>\n",
       "      <td>Paul</td>\n",
       "      <td>57</td>\n",
       "      <td>100</td>\n",
       "      <td>57</td>\n",
       "      <td>100</td>\n",
       "      <td>Not Same</td>\n",
       "      <td>Names Been Cut or Fully Spelled Out</td>\n",
       "    </tr>\n",
       "    <tr>\n",
       "      <th>7</th>\n",
       "      <td>Alon</td>\n",
       "      <td>Al</td>\n",
       "      <td>67</td>\n",
       "      <td>100</td>\n",
       "      <td>67</td>\n",
       "      <td>67</td>\n",
       "      <td>Not Same</td>\n",
       "      <td>Names Been Cut or Fully Spelled Out</td>\n",
       "    </tr>\n",
       "    <tr>\n",
       "      <th>8</th>\n",
       "      <td>Charla</td>\n",
       "      <td>Charlanda</td>\n",
       "      <td>80</td>\n",
       "      <td>100</td>\n",
       "      <td>80</td>\n",
       "      <td>80</td>\n",
       "      <td>Not Same</td>\n",
       "      <td>Names Been Cut or Fully Spelled Out</td>\n",
       "    </tr>\n",
       "    <tr>\n",
       "      <th>9</th>\n",
       "      <td>Christiaan</td>\n",
       "      <td>Chris</td>\n",
       "      <td>67</td>\n",
       "      <td>100</td>\n",
       "      <td>67</td>\n",
       "      <td>67</td>\n",
       "      <td>Not Same</td>\n",
       "      <td>Names Been Cut or Fully Spelled Out</td>\n",
       "    </tr>\n",
       "  </tbody>\n",
       "</table>\n",
       "</div>"
      ],
      "text/plain": [
       "  HubFirstName LolaFirstName  ratioScore  partialRatioScore  \\\n",
       "0       Cherri         Cheri          91                 80   \n",
       "1          Bob        Robert          44                 67   \n",
       "2        Steve        Steven          91                100   \n",
       "3      Kathryn         Kathy          83                 80   \n",
       "4     Kimberly           Kim          55                100   \n",
       "5  Juan Carlos    Juancarlos          86                 80   \n",
       "6   Paul David          Paul          57                100   \n",
       "7         Alon            Al          67                100   \n",
       "8       Charla     Charlanda          80                100   \n",
       "9   Christiaan         Chris          67                100   \n",
       "\n",
       "   tokenSortRatioScore  tokenSetRatioScore sameOrNot  \\\n",
       "0                   91                  91  Not Same   \n",
       "1                   44                  44  Not Same   \n",
       "2                   91                  91  Not Same   \n",
       "3                   83                  83  Not Same   \n",
       "4                   55                  55  Not Same   \n",
       "5                   57                  57  Not Same   \n",
       "6                   57                 100  Not Same   \n",
       "7                   67                  67  Not Same   \n",
       "8                   80                  80  Not Same   \n",
       "9                   67                  67  Not Same   \n",
       "\n",
       "                        Match Category  \n",
       "0                           Minor Typo  \n",
       "1                         Do Not Match  \n",
       "2  Names Been Cut or Fully Spelled Out  \n",
       "3                           Minor Typo  \n",
       "4  Names Been Cut or Fully Spelled Out  \n",
       "5                           Minor Typo  \n",
       "6  Names Been Cut or Fully Spelled Out  \n",
       "7  Names Been Cut or Fully Spelled Out  \n",
       "8  Names Been Cut or Fully Spelled Out  \n",
       "9  Names Been Cut or Fully Spelled Out  "
      ]
     },
     "execution_count": 47,
     "metadata": {},
     "output_type": "execute_result"
    }
   ],
   "source": [
    "nameSample.head(10)"
   ]
  },
  {
   "cell_type": "markdown",
   "metadata": {},
   "source": [
    "### Export the dataframe to excel file"
   ]
  },
  {
   "cell_type": "code",
   "execution_count": null,
   "metadata": {
    "collapsed": true
   },
   "outputs": [],
   "source": [
    "export_excel = nameSample.to_excel(r\"C:\\Users\\nwang\\Untitled Folder\\StringSimilarityCheck\\firstNameTest.xlsx\",sheet_name='Sheet2',index=None, header=True)"
   ]
  },
  {
   "cell_type": "markdown",
   "metadata": {},
   "source": [
    "### Analyze the result in Python\n"
   ]
  },
  {
   "cell_type": "markdown",
   "metadata": {},
   "source": [
    "#### Step 1:  The total count of rows in the dataframe"
   ]
  },
  {
   "cell_type": "code",
   "execution_count": 13,
   "metadata": {},
   "outputs": [
    {
     "data": {
      "text/plain": [
       "996"
      ]
     },
     "execution_count": 13,
     "metadata": {},
     "output_type": "execute_result"
    }
   ],
   "source": [
    "count_row = nameSample.shape[0]\n",
    "count_row"
   ]
  },
  {
   "cell_type": "markdown",
   "metadata": {},
   "source": [
    "#### Step 2:  Check the count of each category"
   ]
  },
  {
   "cell_type": "code",
   "execution_count": 48,
   "metadata": {},
   "outputs": [
    {
     "data": {
      "text/html": [
       "<div>\n",
       "<style>\n",
       "    .dataframe thead tr:only-child th {\n",
       "        text-align: right;\n",
       "    }\n",
       "\n",
       "    .dataframe thead th {\n",
       "        text-align: left;\n",
       "    }\n",
       "\n",
       "    .dataframe tbody tr th {\n",
       "        vertical-align: top;\n",
       "    }\n",
       "</style>\n",
       "<table border=\"1\" class=\"dataframe\">\n",
       "  <thead>\n",
       "    <tr style=\"text-align: right;\">\n",
       "      <th></th>\n",
       "      <th>count</th>\n",
       "    </tr>\n",
       "    <tr>\n",
       "      <th>Match Category</th>\n",
       "      <th></th>\n",
       "    </tr>\n",
       "  </thead>\n",
       "  <tbody>\n",
       "    <tr>\n",
       "      <th>Same Names</th>\n",
       "      <td>17</td>\n",
       "    </tr>\n",
       "    <tr>\n",
       "      <th>Minor Typo</th>\n",
       "      <td>96</td>\n",
       "    </tr>\n",
       "    <tr>\n",
       "      <th>Do Not Match</th>\n",
       "      <td>372</td>\n",
       "    </tr>\n",
       "    <tr>\n",
       "      <th>Names Been Cut or Fully Spelled Out</th>\n",
       "      <td>511</td>\n",
       "    </tr>\n",
       "  </tbody>\n",
       "</table>\n",
       "</div>"
      ],
      "text/plain": [
       "                                     count\n",
       "Match Category                            \n",
       "Same Names                              17\n",
       "Minor Typo                              96\n",
       "Do Not Match                           372\n",
       "Names Been Cut or Fully Spelled Out    511"
      ]
     },
     "execution_count": 48,
     "metadata": {},
     "output_type": "execute_result"
    }
   ],
   "source": [
    "group_count = nameSample['Match Category'].groupby(nameSample['Match Category']).count().reset_index(name=\"count\")\n",
    "group_count_order = group_count.sort_values(by='count')\n",
    "group_count_order.set_index('Match Category',inplace=True)\n",
    "group_count_order"
   ]
  },
  {
   "cell_type": "code",
   "execution_count": 57,
   "metadata": {},
   "outputs": [
    {
     "data": {
      "text/plain": [
       "Match Category\n",
       "Same Names                              17\n",
       "Minor Typo                              96\n",
       "Do Not Match                           372\n",
       "Names Been Cut or Fully Spelled Out    511\n",
       "Name: count, dtype: int64"
      ]
     },
     "execution_count": 57,
     "metadata": {},
     "output_type": "execute_result"
    }
   ],
   "source": [
    "group_count_order['count']"
   ]
  },
  {
   "cell_type": "code",
   "execution_count": 49,
   "metadata": {},
   "outputs": [
    {
     "data": {
      "image/png": "[encoded data removed]",
      "text/plain": [
       "<matplotlib.figure.Figure at 0x26de61a3ac8>"
      ]
     },
     "metadata": {},
     "output_type": "display_data"
    }
   ],
   "source": [
    "group_count_order.plot(kind='barh',title='Count of each match category')\n",
    "plt.show()"
   ]
  },
  {
   "cell_type": "markdown",
   "metadata": {},
   "source": [
    "#### Step 3: Check the percentage of each category"
   ]
  },
  {
   "cell_type": "code",
   "execution_count": 65,
   "metadata": {},
   "outputs": [
    {
     "data": {
      "text/html": [
       "<div>\n",
       "<style>\n",
       "    .dataframe thead tr:only-child th {\n",
       "        text-align: right;\n",
       "    }\n",
       "\n",
       "    .dataframe thead th {\n",
       "        text-align: left;\n",
       "    }\n",
       "\n",
       "    .dataframe tbody tr th {\n",
       "        vertical-align: top;\n",
       "    }\n",
       "</style>\n",
       "<table border=\"1\" class=\"dataframe\">\n",
       "  <thead>\n",
       "    <tr style=\"text-align: right;\">\n",
       "      <th></th>\n",
       "      <th>count</th>\n",
       "      <th>Percentage</th>\n",
       "    </tr>\n",
       "    <tr>\n",
       "      <th>Match Category</th>\n",
       "      <th></th>\n",
       "      <th></th>\n",
       "    </tr>\n",
       "  </thead>\n",
       "  <tbody>\n",
       "    <tr>\n",
       "      <th>Same Names</th>\n",
       "      <td>17</td>\n",
       "      <td>1.71</td>\n",
       "    </tr>\n",
       "    <tr>\n",
       "      <th>Minor Typo</th>\n",
       "      <td>96</td>\n",
       "      <td>9.64</td>\n",
       "    </tr>\n",
       "    <tr>\n",
       "      <th>Do Not Match</th>\n",
       "      <td>372</td>\n",
       "      <td>37.35</td>\n",
       "    </tr>\n",
       "    <tr>\n",
       "      <th>Names Been Cut or Fully Spelled Out</th>\n",
       "      <td>511</td>\n",
       "      <td>51.31</td>\n",
       "    </tr>\n",
       "  </tbody>\n",
       "</table>\n",
       "</div>"
      ],
      "text/plain": [
       "                                     count  Percentage\n",
       "Match Category                                        \n",
       "Same Names                              17        1.71\n",
       "Minor Typo                              96        9.64\n",
       "Do Not Match                           372       37.35\n",
       "Names Been Cut or Fully Spelled Out    511       51.31"
      ]
     },
     "execution_count": 65,
     "metadata": {},
     "output_type": "execute_result"
    }
   ],
   "source": [
    "group_count_order['Percentage'] = round((group_count_order['count']/count_row)*100, 2)\n",
    "group_count_order"
   ]
  }
 ],
 "metadata": {
  "kernelspec": {
   "display_name": "Python 3",
   "language": "python",
   "name": "python3"
  },
  "language_info": {
   "codemirror_mode": {
    "name": "ipython",
    "version": 3
   },
   "file_extension": ".py",
   "mimetype": "text/x-python",
   "name": "python",
   "nbconvert_exporter": "python",
   "pygments_lexer": "ipython3",
   "version": "3.6.3"
  }
 },
 "nbformat": 4,
 "nbformat_minor": 2
}
